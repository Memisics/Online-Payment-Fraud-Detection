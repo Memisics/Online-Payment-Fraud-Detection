{
  "cells": [
    {
      "cell_type": "markdown",
      "metadata": {
        "id": "cpCk2h6D065b"
      },
      "source": [
        "I will start this task by importing the necessary Python libraries and the dataset we need for this task:"
      ]
    },
    {
      "cell_type": "code",
      "execution_count": null,
      "metadata": {
        "colab": {
          "base_uri": "https://localhost:8080/"
        },
        "id": "rtB9BZukx3re",
        "outputId": "f3912820-5b5e-446a-d1da-42610311e368"
      },
      "outputs": [
        {
          "name": "stdout",
          "output_type": "stream",
          "text": [
            "   step      type    amount     nameOrig  oldbalanceOrg  newbalanceOrig  \\\n",
            "0     1   PAYMENT   9839.64  C1231006815       170136.0       160296.36   \n",
            "1     1   PAYMENT   1864.28  C1666544295        21249.0        19384.72   \n",
            "2     1  TRANSFER    181.00  C1305486145          181.0            0.00   \n",
            "3     1  CASH_OUT    181.00   C840083671          181.0            0.00   \n",
            "4     1   PAYMENT  11668.14  C2048537720        41554.0        29885.86   \n",
            "\n",
            "      nameDest  oldbalanceDest  newbalanceDest  isFraud  isFlaggedFraud  \n",
            "0  M1979787155             0.0             0.0        0               0  \n",
            "1  M2044282225             0.0             0.0        0               0  \n",
            "2   C553264065             0.0             0.0        1               0  \n",
            "3    C38997010         21182.0             0.0        1               0  \n",
            "4  M1230701703             0.0             0.0        0               0  \n"
          ]
        }
      ],
      "source": [
        "import matplotlib as matplotlib\n",
        "import numpy as np\n",
        "import pandas as pd\n",
        "import matplotlib.pyplot as plt\n",
        "import seaborn as sns\n",
        "\n",
        "data = pd.read_csv(\"/content/PS_20174392719_1491204439457_log.csv\")\n",
        "print(data.head())"
      ]
    },
    {
      "cell_type": "markdown",
      "metadata": {
        "id": "Ykk92lne1xBc"
      },
      "source": [
        "Taking out the Info:"
      ]
    },
    {
      "cell_type": "code",
      "execution_count": null,
      "metadata": {
        "colab": {
          "base_uri": "https://localhost:8080/"
        },
        "id": "5wytcNDf1gP7",
        "outputId": "f434cc2b-b803-4992-9928-f9aebc17c32f"
      },
      "outputs": [
        {
          "name": "stdout",
          "output_type": "stream",
          "text": [
            "<class 'pandas.core.frame.DataFrame'>\n",
            "RangeIndex: 1048575 entries, 0 to 1048574\n",
            "Data columns (total 11 columns):\n",
            " #   Column          Non-Null Count    Dtype  \n",
            "---  ------          --------------    -----  \n",
            " 0   step            1048575 non-null  int64  \n",
            " 1   type            1048575 non-null  object \n",
            " 2   amount          1048575 non-null  float64\n",
            " 3   nameOrig        1048575 non-null  object \n",
            " 4   oldbalanceOrg   1048575 non-null  float64\n",
            " 5   newbalanceOrig  1048575 non-null  float64\n",
            " 6   nameDest        1048575 non-null  object \n",
            " 7   oldbalanceDest  1048575 non-null  float64\n",
            " 8   newbalanceDest  1048575 non-null  float64\n",
            " 9   isFraud         1048575 non-null  int64  \n",
            " 10  isFlaggedFraud  1048575 non-null  int64  \n",
            "dtypes: float64(5), int64(3), object(3)\n",
            "memory usage: 88.0+ MB\n"
          ]
        }
      ],
      "source": [
        "data.info()\n"
      ]
    },
    {
      "cell_type": "markdown",
      "metadata": {
        "id": "i6MT5FDu13z9"
      },
      "source": [
        "Decribing the data:"
      ]
    },
    {
      "cell_type": "code",
      "execution_count": null,
      "metadata": {
        "colab": {
          "base_uri": "https://localhost:8080/",
          "height": 320
        },
        "id": "XEPlCe6H12qI",
        "outputId": "78c6bfad-da4d-48cf-f37f-83817745b6f5"
      },
      "outputs": [
        {
          "data": {
            "application/vnd.google.colaboratory.intrinsic+json": {
              "summary": "{\n  \"name\": \"data\",\n  \"rows\": 8,\n  \"fields\": [\n    {\n      \"column\": \"step\",\n      \"properties\": {\n        \"dtype\": \"number\",\n        \"std\": 370716.5102496162,\n        \"min\": 1.0,\n        \"max\": 1048575.0,\n        \"num_unique_values\": 8,\n        \"samples\": [\n          26.966174093412487,\n          20.0,\n          1048575.0\n        ],\n        \"semantic_type\": \"\",\n        \"description\": \"\"\n      }\n    },\n    {\n      \"column\": \"amount\",\n      \"properties\": {\n        \"dtype\": \"number\",\n        \"std\": 3462387.219331349,\n        \"min\": 0.1,\n        \"max\": 10000000.0,\n        \"num_unique_values\": 8,\n        \"samples\": [\n          158666.9755271392,\n          76343.33,\n          1048575.0\n        ],\n        \"semantic_type\": \"\",\n        \"description\": \"\"\n      }\n    },\n    {\n      \"column\": \"oldbalanceOrg\",\n      \"properties\": {\n        \"dtype\": \"number\",\n        \"std\": 13535701.517209884,\n        \"min\": 0.0,\n        \"max\": 38900000.0,\n        \"num_unique_values\": 7,\n        \"samples\": [\n          1048575.0,\n          874009.544348177,\n          136642.02000000002\n        ],\n        \"semantic_type\": \"\",\n        \"description\": \"\"\n      }\n    },\n    {\n      \"column\": \"newbalanceOrig\",\n      \"properties\": {\n        \"dtype\": \"number\",\n        \"std\": 13532557.029435875,\n        \"min\": 0.0,\n        \"max\": 38900000.0,\n        \"num_unique_values\": 6,\n        \"samples\": [\n          1048575.0,\n          893808.8980306699,\n          38900000.0\n        ],\n        \"semantic_type\": \"\",\n        \"description\": \"\"\n      }\n    },\n    {\n      \"column\": \"oldbalanceDest\",\n      \"properties\": {\n        \"dtype\": \"number\",\n        \"std\": 14633478.891241083,\n        \"min\": 0.0,\n        \"max\": 42100000.0,\n        \"num_unique_values\": 7,\n        \"samples\": [\n          1048575.0,\n          978160.0492755122,\n          915923.475\n        ],\n        \"semantic_type\": \"\",\n        \"description\": \"\"\n      }\n    },\n    {\n      \"column\": \"newbalanceDest\",\n      \"properties\": {\n        \"dtype\": \"number\",\n        \"std\": 14641519.433379171,\n        \"min\": 0.0,\n        \"max\": 42200000.0,\n        \"num_unique_values\": 7,\n        \"samples\": [\n          1048575.0,\n          1114197.9684699522,\n          1149807.5099999998\n        ],\n        \"semantic_type\": \"\",\n        \"description\": \"\"\n      }\n    },\n    {\n      \"column\": \"isFraud\",\n      \"properties\": {\n        \"dtype\": \"number\",\n        \"std\": 370727.1943129517,\n        \"min\": 0.0,\n        \"max\": 1048575.0,\n        \"num_unique_values\": 5,\n        \"samples\": [\n          0.0010890971079798775,\n          1.0,\n          0.03298351122885496\n        ],\n        \"semantic_type\": \"\",\n        \"description\": \"\"\n      }\n    },\n    {\n      \"column\": \"isFlaggedFraud\",\n      \"properties\": {\n        \"dtype\": \"number\",\n        \"std\": 370727.24654134206,\n        \"min\": 0.0,\n        \"max\": 1048575.0,\n        \"num_unique_values\": 2,\n        \"samples\": [\n          0.0,\n          1048575.0\n        ],\n        \"semantic_type\": \"\",\n        \"description\": \"\"\n      }\n    }\n  ]\n}",
              "type": "dataframe"
            },
            "text/html": [
              "\n",
              "  <div id=\"df-163cc584-84ce-495f-9a8f-2de14a410087\" class=\"colab-df-container\">\n",
              "    <div>\n",
              "<style scoped>\n",
              "    .dataframe tbody tr th:only-of-type {\n",
              "        vertical-align: middle;\n",
              "    }\n",
              "\n",
              "    .dataframe tbody tr th {\n",
              "        vertical-align: top;\n",
              "    }\n",
              "\n",
              "    .dataframe thead th {\n",
              "        text-align: right;\n",
              "    }\n",
              "</style>\n",
              "<table border=\"1\" class=\"dataframe\">\n",
              "  <thead>\n",
              "    <tr style=\"text-align: right;\">\n",
              "      <th></th>\n",
              "      <th>step</th>\n",
              "      <th>amount</th>\n",
              "      <th>oldbalanceOrg</th>\n",
              "      <th>newbalanceOrig</th>\n",
              "      <th>oldbalanceDest</th>\n",
              "      <th>newbalanceDest</th>\n",
              "      <th>isFraud</th>\n",
              "      <th>isFlaggedFraud</th>\n",
              "    </tr>\n",
              "  </thead>\n",
              "  <tbody>\n",
              "    <tr>\n",
              "      <th>count</th>\n",
              "      <td>1.048575e+06</td>\n",
              "      <td>1.048575e+06</td>\n",
              "      <td>1.048575e+06</td>\n",
              "      <td>1.048575e+06</td>\n",
              "      <td>1.048575e+06</td>\n",
              "      <td>1.048575e+06</td>\n",
              "      <td>1.048575e+06</td>\n",
              "      <td>1048575.0</td>\n",
              "    </tr>\n",
              "    <tr>\n",
              "      <th>mean</th>\n",
              "      <td>2.696617e+01</td>\n",
              "      <td>1.586670e+05</td>\n",
              "      <td>8.740095e+05</td>\n",
              "      <td>8.938089e+05</td>\n",
              "      <td>9.781600e+05</td>\n",
              "      <td>1.114198e+06</td>\n",
              "      <td>1.089097e-03</td>\n",
              "      <td>0.0</td>\n",
              "    </tr>\n",
              "    <tr>\n",
              "      <th>std</th>\n",
              "      <td>1.562325e+01</td>\n",
              "      <td>2.649409e+05</td>\n",
              "      <td>2.971751e+06</td>\n",
              "      <td>3.008271e+06</td>\n",
              "      <td>2.296780e+06</td>\n",
              "      <td>2.416593e+06</td>\n",
              "      <td>3.298351e-02</td>\n",
              "      <td>0.0</td>\n",
              "    </tr>\n",
              "    <tr>\n",
              "      <th>min</th>\n",
              "      <td>1.000000e+00</td>\n",
              "      <td>1.000000e-01</td>\n",
              "      <td>0.000000e+00</td>\n",
              "      <td>0.000000e+00</td>\n",
              "      <td>0.000000e+00</td>\n",
              "      <td>0.000000e+00</td>\n",
              "      <td>0.000000e+00</td>\n",
              "      <td>0.0</td>\n",
              "    </tr>\n",
              "    <tr>\n",
              "      <th>25%</th>\n",
              "      <td>1.500000e+01</td>\n",
              "      <td>1.214907e+04</td>\n",
              "      <td>0.000000e+00</td>\n",
              "      <td>0.000000e+00</td>\n",
              "      <td>0.000000e+00</td>\n",
              "      <td>0.000000e+00</td>\n",
              "      <td>0.000000e+00</td>\n",
              "      <td>0.0</td>\n",
              "    </tr>\n",
              "    <tr>\n",
              "      <th>50%</th>\n",
              "      <td>2.000000e+01</td>\n",
              "      <td>7.634333e+04</td>\n",
              "      <td>1.600200e+04</td>\n",
              "      <td>0.000000e+00</td>\n",
              "      <td>1.263772e+05</td>\n",
              "      <td>2.182604e+05</td>\n",
              "      <td>0.000000e+00</td>\n",
              "      <td>0.0</td>\n",
              "    </tr>\n",
              "    <tr>\n",
              "      <th>75%</th>\n",
              "      <td>3.900000e+01</td>\n",
              "      <td>2.137619e+05</td>\n",
              "      <td>1.366420e+05</td>\n",
              "      <td>1.746000e+05</td>\n",
              "      <td>9.159235e+05</td>\n",
              "      <td>1.149808e+06</td>\n",
              "      <td>0.000000e+00</td>\n",
              "      <td>0.0</td>\n",
              "    </tr>\n",
              "    <tr>\n",
              "      <th>max</th>\n",
              "      <td>9.500000e+01</td>\n",
              "      <td>1.000000e+07</td>\n",
              "      <td>3.890000e+07</td>\n",
              "      <td>3.890000e+07</td>\n",
              "      <td>4.210000e+07</td>\n",
              "      <td>4.220000e+07</td>\n",
              "      <td>1.000000e+00</td>\n",
              "      <td>0.0</td>\n",
              "    </tr>\n",
              "  </tbody>\n",
              "</table>\n",
              "</div>\n",
              "    <div class=\"colab-df-buttons\">\n",
              "\n",
              "  <div class=\"colab-df-container\">\n",
              "    <button class=\"colab-df-convert\" onclick=\"convertToInteractive('df-163cc584-84ce-495f-9a8f-2de14a410087')\"\n",
              "            title=\"Convert this dataframe to an interactive table.\"\n",
              "            style=\"display:none;\">\n",
              "\n",
              "  <svg xmlns=\"http://www.w3.org/2000/svg\" height=\"24px\" viewBox=\"0 -960 960 960\">\n",
              "    <path d=\"M120-120v-720h720v720H120Zm60-500h600v-160H180v160Zm220 220h160v-160H400v160Zm0 220h160v-160H400v160ZM180-400h160v-160H180v160Zm440 0h160v-160H620v160ZM180-180h160v-160H180v160Zm440 0h160v-160H620v160Z\"/>\n",
              "  </svg>\n",
              "    </button>\n",
              "\n",
              "  <style>\n",
              "    .colab-df-container {\n",
              "      display:flex;\n",
              "      gap: 12px;\n",
              "    }\n",
              "\n",
              "    .colab-df-convert {\n",
              "      background-color: #E8F0FE;\n",
              "      border: none;\n",
              "      border-radius: 50%;\n",
              "      cursor: pointer;\n",
              "      display: none;\n",
              "      fill: #1967D2;\n",
              "      height: 32px;\n",
              "      padding: 0 0 0 0;\n",
              "      width: 32px;\n",
              "    }\n",
              "\n",
              "    .colab-df-convert:hover {\n",
              "      background-color: #E2EBFA;\n",
              "      box-shadow: 0px 1px 2px rgba(60, 64, 67, 0.3), 0px 1px 3px 1px rgba(60, 64, 67, 0.15);\n",
              "      fill: #174EA6;\n",
              "    }\n",
              "\n",
              "    .colab-df-buttons div {\n",
              "      margin-bottom: 4px;\n",
              "    }\n",
              "\n",
              "    [theme=dark] .colab-df-convert {\n",
              "      background-color: #3B4455;\n",
              "      fill: #D2E3FC;\n",
              "    }\n",
              "\n",
              "    [theme=dark] .colab-df-convert:hover {\n",
              "      background-color: #434B5C;\n",
              "      box-shadow: 0px 1px 3px 1px rgba(0, 0, 0, 0.15);\n",
              "      filter: drop-shadow(0px 1px 2px rgba(0, 0, 0, 0.3));\n",
              "      fill: #FFFFFF;\n",
              "    }\n",
              "  </style>\n",
              "\n",
              "    <script>\n",
              "      const buttonEl =\n",
              "        document.querySelector('#df-163cc584-84ce-495f-9a8f-2de14a410087 button.colab-df-convert');\n",
              "      buttonEl.style.display =\n",
              "        google.colab.kernel.accessAllowed ? 'block' : 'none';\n",
              "\n",
              "      async function convertToInteractive(key) {\n",
              "        const element = document.querySelector('#df-163cc584-84ce-495f-9a8f-2de14a410087');\n",
              "        const dataTable =\n",
              "          await google.colab.kernel.invokeFunction('convertToInteractive',\n",
              "                                                    [key], {});\n",
              "        if (!dataTable) return;\n",
              "\n",
              "        const docLinkHtml = 'Like what you see? Visit the ' +\n",
              "          '<a target=\"_blank\" href=https://colab.research.google.com/notebooks/data_table.ipynb>data table notebook</a>'\n",
              "          + ' to learn more about interactive tables.';\n",
              "        element.innerHTML = '';\n",
              "        dataTable['output_type'] = 'display_data';\n",
              "        await google.colab.output.renderOutput(dataTable, element);\n",
              "        const docLink = document.createElement('div');\n",
              "        docLink.innerHTML = docLinkHtml;\n",
              "        element.appendChild(docLink);\n",
              "      }\n",
              "    </script>\n",
              "  </div>\n",
              "\n",
              "\n",
              "<div id=\"df-e483cd11-7ed7-49d2-be73-8a4d56b09506\">\n",
              "  <button class=\"colab-df-quickchart\" onclick=\"quickchart('df-e483cd11-7ed7-49d2-be73-8a4d56b09506')\"\n",
              "            title=\"Suggest charts\"\n",
              "            style=\"display:none;\">\n",
              "\n",
              "<svg xmlns=\"http://www.w3.org/2000/svg\" height=\"24px\"viewBox=\"0 0 24 24\"\n",
              "     width=\"24px\">\n",
              "    <g>\n",
              "        <path d=\"M19 3H5c-1.1 0-2 .9-2 2v14c0 1.1.9 2 2 2h14c1.1 0 2-.9 2-2V5c0-1.1-.9-2-2-2zM9 17H7v-7h2v7zm4 0h-2V7h2v10zm4 0h-2v-4h2v4z\"/>\n",
              "    </g>\n",
              "</svg>\n",
              "  </button>\n",
              "\n",
              "<style>\n",
              "  .colab-df-quickchart {\n",
              "      --bg-color: #E8F0FE;\n",
              "      --fill-color: #1967D2;\n",
              "      --hover-bg-color: #E2EBFA;\n",
              "      --hover-fill-color: #174EA6;\n",
              "      --disabled-fill-color: #AAA;\n",
              "      --disabled-bg-color: #DDD;\n",
              "  }\n",
              "\n",
              "  [theme=dark] .colab-df-quickchart {\n",
              "      --bg-color: #3B4455;\n",
              "      --fill-color: #D2E3FC;\n",
              "      --hover-bg-color: #434B5C;\n",
              "      --hover-fill-color: #FFFFFF;\n",
              "      --disabled-bg-color: #3B4455;\n",
              "      --disabled-fill-color: #666;\n",
              "  }\n",
              "\n",
              "  .colab-df-quickchart {\n",
              "    background-color: var(--bg-color);\n",
              "    border: none;\n",
              "    border-radius: 50%;\n",
              "    cursor: pointer;\n",
              "    display: none;\n",
              "    fill: var(--fill-color);\n",
              "    height: 32px;\n",
              "    padding: 0;\n",
              "    width: 32px;\n",
              "  }\n",
              "\n",
              "  .colab-df-quickchart:hover {\n",
              "    background-color: var(--hover-bg-color);\n",
              "    box-shadow: 0 1px 2px rgba(60, 64, 67, 0.3), 0 1px 3px 1px rgba(60, 64, 67, 0.15);\n",
              "    fill: var(--button-hover-fill-color);\n",
              "  }\n",
              "\n",
              "  .colab-df-quickchart-complete:disabled,\n",
              "  .colab-df-quickchart-complete:disabled:hover {\n",
              "    background-color: var(--disabled-bg-color);\n",
              "    fill: var(--disabled-fill-color);\n",
              "    box-shadow: none;\n",
              "  }\n",
              "\n",
              "  .colab-df-spinner {\n",
              "    border: 2px solid var(--fill-color);\n",
              "    border-color: transparent;\n",
              "    border-bottom-color: var(--fill-color);\n",
              "    animation:\n",
              "      spin 1s steps(1) infinite;\n",
              "  }\n",
              "\n",
              "  @keyframes spin {\n",
              "    0% {\n",
              "      border-color: transparent;\n",
              "      border-bottom-color: var(--fill-color);\n",
              "      border-left-color: var(--fill-color);\n",
              "    }\n",
              "    20% {\n",
              "      border-color: transparent;\n",
              "      border-left-color: var(--fill-color);\n",
              "      border-top-color: var(--fill-color);\n",
              "    }\n",
              "    30% {\n",
              "      border-color: transparent;\n",
              "      border-left-color: var(--fill-color);\n",
              "      border-top-color: var(--fill-color);\n",
              "      border-right-color: var(--fill-color);\n",
              "    }\n",
              "    40% {\n",
              "      border-color: transparent;\n",
              "      border-right-color: var(--fill-color);\n",
              "      border-top-color: var(--fill-color);\n",
              "    }\n",
              "    60% {\n",
              "      border-color: transparent;\n",
              "      border-right-color: var(--fill-color);\n",
              "    }\n",
              "    80% {\n",
              "      border-color: transparent;\n",
              "      border-right-color: var(--fill-color);\n",
              "      border-bottom-color: var(--fill-color);\n",
              "    }\n",
              "    90% {\n",
              "      border-color: transparent;\n",
              "      border-bottom-color: var(--fill-color);\n",
              "    }\n",
              "  }\n",
              "</style>\n",
              "\n",
              "  <script>\n",
              "    async function quickchart(key) {\n",
              "      const quickchartButtonEl =\n",
              "        document.querySelector('#' + key + ' button');\n",
              "      quickchartButtonEl.disabled = true;  // To prevent multiple clicks.\n",
              "      quickchartButtonEl.classList.add('colab-df-spinner');\n",
              "      try {\n",
              "        const charts = await google.colab.kernel.invokeFunction(\n",
              "            'suggestCharts', [key], {});\n",
              "      } catch (error) {\n",
              "        console.error('Error during call to suggestCharts:', error);\n",
              "      }\n",
              "      quickchartButtonEl.classList.remove('colab-df-spinner');\n",
              "      quickchartButtonEl.classList.add('colab-df-quickchart-complete');\n",
              "    }\n",
              "    (() => {\n",
              "      let quickchartButtonEl =\n",
              "        document.querySelector('#df-e483cd11-7ed7-49d2-be73-8a4d56b09506 button');\n",
              "      quickchartButtonEl.style.display =\n",
              "        google.colab.kernel.accessAllowed ? 'block' : 'none';\n",
              "    })();\n",
              "  </script>\n",
              "</div>\n",
              "\n",
              "    </div>\n",
              "  </div>\n"
            ],
            "text/plain": [
              "               step        amount  oldbalanceOrg  newbalanceOrig  \\\n",
              "count  1.048575e+06  1.048575e+06   1.048575e+06    1.048575e+06   \n",
              "mean   2.696617e+01  1.586670e+05   8.740095e+05    8.938089e+05   \n",
              "std    1.562325e+01  2.649409e+05   2.971751e+06    3.008271e+06   \n",
              "min    1.000000e+00  1.000000e-01   0.000000e+00    0.000000e+00   \n",
              "25%    1.500000e+01  1.214907e+04   0.000000e+00    0.000000e+00   \n",
              "50%    2.000000e+01  7.634333e+04   1.600200e+04    0.000000e+00   \n",
              "75%    3.900000e+01  2.137619e+05   1.366420e+05    1.746000e+05   \n",
              "max    9.500000e+01  1.000000e+07   3.890000e+07    3.890000e+07   \n",
              "\n",
              "       oldbalanceDest  newbalanceDest       isFraud  isFlaggedFraud  \n",
              "count    1.048575e+06    1.048575e+06  1.048575e+06       1048575.0  \n",
              "mean     9.781600e+05    1.114198e+06  1.089097e-03             0.0  \n",
              "std      2.296780e+06    2.416593e+06  3.298351e-02             0.0  \n",
              "min      0.000000e+00    0.000000e+00  0.000000e+00             0.0  \n",
              "25%      0.000000e+00    0.000000e+00  0.000000e+00             0.0  \n",
              "50%      1.263772e+05    2.182604e+05  0.000000e+00             0.0  \n",
              "75%      9.159235e+05    1.149808e+06  0.000000e+00             0.0  \n",
              "max      4.210000e+07    4.220000e+07  1.000000e+00             0.0  "
            ]
          },
          "execution_count": 6,
          "metadata": {},
          "output_type": "execute_result"
        }
      ],
      "source": [
        "data.describe()\n"
      ]
    },
    {
      "cell_type": "markdown",
      "metadata": {
        "id": "rq2CFj6F2DNt"
      },
      "source": [
        "Taking out all Numbers Of Datatype:"
      ]
    },
    {
      "cell_type": "code",
      "execution_count": null,
      "metadata": {
        "colab": {
          "base_uri": "https://localhost:8080/"
        },
        "id": "W7Yybu465ve5",
        "outputId": "f2a0a005-dc5d-42ed-c5fe-4d9d981f2c18"
      },
      "outputs": [
        {
          "data": {
            "text/plain": [
              "(1048575, 11)"
            ]
          },
          "execution_count": 8,
          "metadata": {},
          "output_type": "execute_result"
        }
      ],
      "source": [
        "data.shape\n"
      ]
    },
    {
      "cell_type": "code",
      "execution_count": null,
      "metadata": {
        "colab": {
          "base_uri": "https://localhost:8080/"
        },
        "id": "8Bmu_Ojk2CTP",
        "outputId": "1951af16-9cce-4518-d369-a2707987171d"
      },
      "outputs": [
        {
          "name": "stdout",
          "output_type": "stream",
          "text": [
            "Categorical variables: 3\n",
            "Integer variables: 3\n",
            "Float variables: 5\n"
          ]
        }
      ],
      "source": [
        "obj = (data.dtypes == 'object')\n",
        "object_cols = list(obj[obj].index)\n",
        "print(\"Categorical variables:\", len(object_cols))\n",
        "\n",
        "int_ = (data.dtypes == 'int')\n",
        "num_cols = list(int_[int_].index)\n",
        "print(\"Integer variables:\", len(num_cols))\n",
        "\n",
        "fl = (data.dtypes == 'float')\n",
        "fl_cols = list(fl[fl].index)\n",
        "print(\"Float variables:\", len(fl_cols))"
      ]
    },
    {
      "cell_type": "markdown",
      "metadata": {
        "id": "aFJW8kZc2dYt"
      },
      "source": [
        "Now, Lets check whether we have any negative values or not:"
      ]
    },
    {
      "cell_type": "code",
      "execution_count": null,
      "metadata": {
        "colab": {
          "base_uri": "https://localhost:8080/"
        },
        "id": "lDCFUrOl2cnb",
        "outputId": "f82515d3-c1fb-4d7c-afaa-3594bddcc3a5"
      },
      "outputs": [
        {
          "name": "stdout",
          "output_type": "stream",
          "text": [
            "step              0\n",
            "type              0\n",
            "amount            0\n",
            "nameOrig          0\n",
            "oldbalanceOrg     0\n",
            "newbalanceOrig    0\n",
            "nameDest          0\n",
            "oldbalanceDest    0\n",
            "newbalanceDest    0\n",
            "isFraud           0\n",
            "isFlaggedFraud    0\n",
            "dtype: int64\n",
            "CASH_OUT    373641\n",
            "PAYMENT     353873\n",
            "CASH_IN     227130\n",
            "TRANSFER     86753\n",
            "DEBIT         7178\n",
            "Name: type, dtype: int64\n"
          ]
        }
      ],
      "source": [
        "print(data.isnull().sum())\n",
        "print(data.type.value_counts())"
      ]
    },
    {
      "cell_type": "markdown",
      "metadata": {
        "id": "KdoIOCno24J2"
      },
      "source": [
        "So this dataset does not have any null values.Moving forward, now, let’s have a look at the type of transaction mentioned in the dataset:"
      ]
    },
    {
      "cell_type": "code",
      "execution_count": null,
      "metadata": {
        "colab": {
          "base_uri": "https://localhost:8080/"
        },
        "id": "k384bjmG2p0P",
        "outputId": "3a2c9d4c-ea05-42ea-ff65-eaf9123c200b"
      },
      "outputs": [
        {
          "name": "stdout",
          "output_type": "stream",
          "text": [
            "CASH_OUT    373641\n",
            "PAYMENT     353873\n",
            "CASH_IN     227130\n",
            "TRANSFER     86753\n",
            "DEBIT         7178\n",
            "Name: type, dtype: int64\n"
          ]
        }
      ],
      "source": [
        "print(data.type.value_counts())"
      ]
    },
    {
      "cell_type": "markdown",
      "metadata": {
        "id": "dBMO3eBIa9UN"
      },
      "source": [
        "Data Visualization:\n",
        "we will try to understand and compare all columns.\n"
      ]
    },
    {
      "cell_type": "code",
      "execution_count": null,
      "metadata": {
        "colab": {
          "base_uri": "https://localhost:8080/",
          "height": 542
        },
        "id": "F1ttwo5O3REu",
        "outputId": "2663d131-b72d-4fb9-d5a4-21eef96bf96a"
      },
      "outputs": [
        {
          "data": {
            "text/html": [
              "<html>\n",
              "<head><meta charset=\"utf-8\" /></head>\n",
              "<body>\n",
              "    <div>            <script src=\"https://cdnjs.cloudflare.com/ajax/libs/mathjax/2.7.5/MathJax.js?config=TeX-AMS-MML_SVG\"></script><script type=\"text/javascript\">if (window.MathJax && window.MathJax.Hub && window.MathJax.Hub.Config) {window.MathJax.Hub.Config({SVG: {font: \"STIX-Web\"}});}</script>                <script type=\"text/javascript\">window.PlotlyConfig = {MathJaxConfig: 'local'};</script>\n",
              "        <script charset=\"utf-8\" src=\"https://cdn.plot.ly/plotly-2.24.1.min.js\"></script>                <div id=\"d8f937db-a9fc-453b-85da-2e353afae9cf\" class=\"plotly-graph-div\" style=\"height:525px; width:100%;\"></div>            <script type=\"text/javascript\">                                    window.PLOTLYENV=window.PLOTLYENV || {};                                    if (document.getElementById(\"d8f937db-a9fc-453b-85da-2e353afae9cf\")) {                    Plotly.newPlot(                        \"d8f937db-a9fc-453b-85da-2e353afae9cf\",                        [{\"domain\":{\"x\":[0.0,1.0],\"y\":[0.0,1.0]},\"hole\":0.5,\"hovertemplate\":\"label=%{label}\\u003cbr\\u003evalue=%{value}\\u003cextra\\u003e\\u003c\\u002fextra\\u003e\",\"labels\":[\"CASH_OUT\",\"PAYMENT\",\"CASH_IN\",\"TRANSFER\",\"DEBIT\"],\"legendgroup\":\"\",\"name\":\"\",\"showlegend\":true,\"values\":[373641,353873,227130,86753,7178],\"type\":\"pie\"}],                        {\"template\":{\"data\":{\"histogram2dcontour\":[{\"type\":\"histogram2dcontour\",\"colorbar\":{\"outlinewidth\":0,\"ticks\":\"\"},\"colorscale\":[[0.0,\"#0d0887\"],[0.1111111111111111,\"#46039f\"],[0.2222222222222222,\"#7201a8\"],[0.3333333333333333,\"#9c179e\"],[0.4444444444444444,\"#bd3786\"],[0.5555555555555556,\"#d8576b\"],[0.6666666666666666,\"#ed7953\"],[0.7777777777777778,\"#fb9f3a\"],[0.8888888888888888,\"#fdca26\"],[1.0,\"#f0f921\"]]}],\"choropleth\":[{\"type\":\"choropleth\",\"colorbar\":{\"outlinewidth\":0,\"ticks\":\"\"}}],\"histogram2d\":[{\"type\":\"histogram2d\",\"colorbar\":{\"outlinewidth\":0,\"ticks\":\"\"},\"colorscale\":[[0.0,\"#0d0887\"],[0.1111111111111111,\"#46039f\"],[0.2222222222222222,\"#7201a8\"],[0.3333333333333333,\"#9c179e\"],[0.4444444444444444,\"#bd3786\"],[0.5555555555555556,\"#d8576b\"],[0.6666666666666666,\"#ed7953\"],[0.7777777777777778,\"#fb9f3a\"],[0.8888888888888888,\"#fdca26\"],[1.0,\"#f0f921\"]]}],\"heatmap\":[{\"type\":\"heatmap\",\"colorbar\":{\"outlinewidth\":0,\"ticks\":\"\"},\"colorscale\":[[0.0,\"#0d0887\"],[0.1111111111111111,\"#46039f\"],[0.2222222222222222,\"#7201a8\"],[0.3333333333333333,\"#9c179e\"],[0.4444444444444444,\"#bd3786\"],[0.5555555555555556,\"#d8576b\"],[0.6666666666666666,\"#ed7953\"],[0.7777777777777778,\"#fb9f3a\"],[0.8888888888888888,\"#fdca26\"],[1.0,\"#f0f921\"]]}],\"heatmapgl\":[{\"type\":\"heatmapgl\",\"colorbar\":{\"outlinewidth\":0,\"ticks\":\"\"},\"colorscale\":[[0.0,\"#0d0887\"],[0.1111111111111111,\"#46039f\"],[0.2222222222222222,\"#7201a8\"],[0.3333333333333333,\"#9c179e\"],[0.4444444444444444,\"#bd3786\"],[0.5555555555555556,\"#d8576b\"],[0.6666666666666666,\"#ed7953\"],[0.7777777777777778,\"#fb9f3a\"],[0.8888888888888888,\"#fdca26\"],[1.0,\"#f0f921\"]]}],\"contourcarpet\":[{\"type\":\"contourcarpet\",\"colorbar\":{\"outlinewidth\":0,\"ticks\":\"\"}}],\"contour\":[{\"type\":\"contour\",\"colorbar\":{\"outlinewidth\":0,\"ticks\":\"\"},\"colorscale\":[[0.0,\"#0d0887\"],[0.1111111111111111,\"#46039f\"],[0.2222222222222222,\"#7201a8\"],[0.3333333333333333,\"#9c179e\"],[0.4444444444444444,\"#bd3786\"],[0.5555555555555556,\"#d8576b\"],[0.6666666666666666,\"#ed7953\"],[0.7777777777777778,\"#fb9f3a\"],[0.8888888888888888,\"#fdca26\"],[1.0,\"#f0f921\"]]}],\"surface\":[{\"type\":\"surface\",\"colorbar\":{\"outlinewidth\":0,\"ticks\":\"\"},\"colorscale\":[[0.0,\"#0d0887\"],[0.1111111111111111,\"#46039f\"],[0.2222222222222222,\"#7201a8\"],[0.3333333333333333,\"#9c179e\"],[0.4444444444444444,\"#bd3786\"],[0.5555555555555556,\"#d8576b\"],[0.6666666666666666,\"#ed7953\"],[0.7777777777777778,\"#fb9f3a\"],[0.8888888888888888,\"#fdca26\"],[1.0,\"#f0f921\"]]}],\"mesh3d\":[{\"type\":\"mesh3d\",\"colorbar\":{\"outlinewidth\":0,\"ticks\":\"\"}}],\"scatter\":[{\"fillpattern\":{\"fillmode\":\"overlay\",\"size\":10,\"solidity\":0.2},\"type\":\"scatter\"}],\"parcoords\":[{\"type\":\"parcoords\",\"line\":{\"colorbar\":{\"outlinewidth\":0,\"ticks\":\"\"}}}],\"scatterpolargl\":[{\"type\":\"scatterpolargl\",\"marker\":{\"colorbar\":{\"outlinewidth\":0,\"ticks\":\"\"}}}],\"bar\":[{\"error_x\":{\"color\":\"#2a3f5f\"},\"error_y\":{\"color\":\"#2a3f5f\"},\"marker\":{\"line\":{\"color\":\"#E5ECF6\",\"width\":0.5},\"pattern\":{\"fillmode\":\"overlay\",\"size\":10,\"solidity\":0.2}},\"type\":\"bar\"}],\"scattergeo\":[{\"type\":\"scattergeo\",\"marker\":{\"colorbar\":{\"outlinewidth\":0,\"ticks\":\"\"}}}],\"scatterpolar\":[{\"type\":\"scatterpolar\",\"marker\":{\"colorbar\":{\"outlinewidth\":0,\"ticks\":\"\"}}}],\"histogram\":[{\"marker\":{\"pattern\":{\"fillmode\":\"overlay\",\"size\":10,\"solidity\":0.2}},\"type\":\"histogram\"}],\"scattergl\":[{\"type\":\"scattergl\",\"marker\":{\"colorbar\":{\"outlinewidth\":0,\"ticks\":\"\"}}}],\"scatter3d\":[{\"type\":\"scatter3d\",\"line\":{\"colorbar\":{\"outlinewidth\":0,\"ticks\":\"\"}},\"marker\":{\"colorbar\":{\"outlinewidth\":0,\"ticks\":\"\"}}}],\"scattermapbox\":[{\"type\":\"scattermapbox\",\"marker\":{\"colorbar\":{\"outlinewidth\":0,\"ticks\":\"\"}}}],\"scatterternary\":[{\"type\":\"scatterternary\",\"marker\":{\"colorbar\":{\"outlinewidth\":0,\"ticks\":\"\"}}}],\"scattercarpet\":[{\"type\":\"scattercarpet\",\"marker\":{\"colorbar\":{\"outlinewidth\":0,\"ticks\":\"\"}}}],\"carpet\":[{\"aaxis\":{\"endlinecolor\":\"#2a3f5f\",\"gridcolor\":\"white\",\"linecolor\":\"white\",\"minorgridcolor\":\"white\",\"startlinecolor\":\"#2a3f5f\"},\"baxis\":{\"endlinecolor\":\"#2a3f5f\",\"gridcolor\":\"white\",\"linecolor\":\"white\",\"minorgridcolor\":\"white\",\"startlinecolor\":\"#2a3f5f\"},\"type\":\"carpet\"}],\"table\":[{\"cells\":{\"fill\":{\"color\":\"#EBF0F8\"},\"line\":{\"color\":\"white\"}},\"header\":{\"fill\":{\"color\":\"#C8D4E3\"},\"line\":{\"color\":\"white\"}},\"type\":\"table\"}],\"barpolar\":[{\"marker\":{\"line\":{\"color\":\"#E5ECF6\",\"width\":0.5},\"pattern\":{\"fillmode\":\"overlay\",\"size\":10,\"solidity\":0.2}},\"type\":\"barpolar\"}],\"pie\":[{\"automargin\":true,\"type\":\"pie\"}]},\"layout\":{\"autotypenumbers\":\"strict\",\"colorway\":[\"#636efa\",\"#EF553B\",\"#00cc96\",\"#ab63fa\",\"#FFA15A\",\"#19d3f3\",\"#FF6692\",\"#B6E880\",\"#FF97FF\",\"#FECB52\"],\"font\":{\"color\":\"#2a3f5f\"},\"hovermode\":\"closest\",\"hoverlabel\":{\"align\":\"left\"},\"paper_bgcolor\":\"white\",\"plot_bgcolor\":\"#E5ECF6\",\"polar\":{\"bgcolor\":\"#E5ECF6\",\"angularaxis\":{\"gridcolor\":\"white\",\"linecolor\":\"white\",\"ticks\":\"\"},\"radialaxis\":{\"gridcolor\":\"white\",\"linecolor\":\"white\",\"ticks\":\"\"}},\"ternary\":{\"bgcolor\":\"#E5ECF6\",\"aaxis\":{\"gridcolor\":\"white\",\"linecolor\":\"white\",\"ticks\":\"\"},\"baxis\":{\"gridcolor\":\"white\",\"linecolor\":\"white\",\"ticks\":\"\"},\"caxis\":{\"gridcolor\":\"white\",\"linecolor\":\"white\",\"ticks\":\"\"}},\"coloraxis\":{\"colorbar\":{\"outlinewidth\":0,\"ticks\":\"\"}},\"colorscale\":{\"sequential\":[[0.0,\"#0d0887\"],[0.1111111111111111,\"#46039f\"],[0.2222222222222222,\"#7201a8\"],[0.3333333333333333,\"#9c179e\"],[0.4444444444444444,\"#bd3786\"],[0.5555555555555556,\"#d8576b\"],[0.6666666666666666,\"#ed7953\"],[0.7777777777777778,\"#fb9f3a\"],[0.8888888888888888,\"#fdca26\"],[1.0,\"#f0f921\"]],\"sequentialminus\":[[0.0,\"#0d0887\"],[0.1111111111111111,\"#46039f\"],[0.2222222222222222,\"#7201a8\"],[0.3333333333333333,\"#9c179e\"],[0.4444444444444444,\"#bd3786\"],[0.5555555555555556,\"#d8576b\"],[0.6666666666666666,\"#ed7953\"],[0.7777777777777778,\"#fb9f3a\"],[0.8888888888888888,\"#fdca26\"],[1.0,\"#f0f921\"]],\"diverging\":[[0,\"#8e0152\"],[0.1,\"#c51b7d\"],[0.2,\"#de77ae\"],[0.3,\"#f1b6da\"],[0.4,\"#fde0ef\"],[0.5,\"#f7f7f7\"],[0.6,\"#e6f5d0\"],[0.7,\"#b8e186\"],[0.8,\"#7fbc41\"],[0.9,\"#4d9221\"],[1,\"#276419\"]]},\"xaxis\":{\"gridcolor\":\"white\",\"linecolor\":\"white\",\"ticks\":\"\",\"title\":{\"standoff\":15},\"zerolinecolor\":\"white\",\"automargin\":true,\"zerolinewidth\":2},\"yaxis\":{\"gridcolor\":\"white\",\"linecolor\":\"white\",\"ticks\":\"\",\"title\":{\"standoff\":15},\"zerolinecolor\":\"white\",\"automargin\":true,\"zerolinewidth\":2},\"scene\":{\"xaxis\":{\"backgroundcolor\":\"#E5ECF6\",\"gridcolor\":\"white\",\"linecolor\":\"white\",\"showbackground\":true,\"ticks\":\"\",\"zerolinecolor\":\"white\",\"gridwidth\":2},\"yaxis\":{\"backgroundcolor\":\"#E5ECF6\",\"gridcolor\":\"white\",\"linecolor\":\"white\",\"showbackground\":true,\"ticks\":\"\",\"zerolinecolor\":\"white\",\"gridwidth\":2},\"zaxis\":{\"backgroundcolor\":\"#E5ECF6\",\"gridcolor\":\"white\",\"linecolor\":\"white\",\"showbackground\":true,\"ticks\":\"\",\"zerolinecolor\":\"white\",\"gridwidth\":2}},\"shapedefaults\":{\"line\":{\"color\":\"#2a3f5f\"}},\"annotationdefaults\":{\"arrowcolor\":\"#2a3f5f\",\"arrowhead\":0,\"arrowwidth\":1},\"geo\":{\"bgcolor\":\"white\",\"landcolor\":\"#E5ECF6\",\"subunitcolor\":\"white\",\"showland\":true,\"showlakes\":true,\"lakecolor\":\"white\"},\"title\":{\"x\":0.05},\"mapbox\":{\"style\":\"light\"}}},\"legend\":{\"tracegroupgap\":0},\"title\":{\"text\":\"Distribution of Transaction Type\"}},                        {\"responsive\": true}                    ).then(function(){\n",
              "                            \n",
              "var gd = document.getElementById('d8f937db-a9fc-453b-85da-2e353afae9cf');\n",
              "var x = new MutationObserver(function (mutations, observer) {{\n",
              "        var display = window.getComputedStyle(gd).display;\n",
              "        if (!display || display === 'none') {{\n",
              "            console.log([gd, 'removed!']);\n",
              "            Plotly.purge(gd);\n",
              "            observer.disconnect();\n",
              "        }}\n",
              "}});\n",
              "\n",
              "// Listen for the removal of the full notebook cells\n",
              "var notebookContainer = gd.closest('#notebook-container');\n",
              "if (notebookContainer) {{\n",
              "    x.observe(notebookContainer, {childList: true});\n",
              "}}\n",
              "\n",
              "// Listen for the clearing of the current output cell\n",
              "var outputEl = gd.closest('.output');\n",
              "if (outputEl) {{\n",
              "    x.observe(outputEl, {childList: true});\n",
              "}}\n",
              "\n",
              "                        })                };                            </script>        </div>\n",
              "</body>\n",
              "</html>"
            ]
          },
          "metadata": {},
          "output_type": "display_data"
        }
      ],
      "source": [
        "\n",
        "type = data[\"type\"].value_counts()\n",
        "transactions = type.index\n",
        "quantity = type.values\n",
        "\n",
        "import plotly.express as px\n",
        "figure = px.pie(data,\n",
        "             values=quantity,\n",
        "             names=transactions,hole = 0.5,\n",
        "             title=\"Distribution of Transaction Type\")\n",
        "figure.show()"
      ]
    },
    {
      "cell_type": "markdown",
      "metadata": {
        "id": "bDHajx56bSJX"
      },
      "source": [
        "The count plot of the Payment type column using Seaborn library."
      ]
    },
    {
      "cell_type": "code",
      "execution_count": null,
      "metadata": {
        "colab": {
          "base_uri": "https://localhost:8080/",
          "height": 466
        },
        "id": "AcbkLkYQZeTD",
        "outputId": "5449c7be-5ba1-4ccd-c56c-4f3de5d40d17"
      },
      "outputs": [
        {
          "data": {
            "text/plain": [
              "<Axes: xlabel='type', ylabel='count'>"
            ]
          },
          "execution_count": 11,
          "metadata": {},
          "output_type": "execute_result"
        },
        {
          "data": {
            "image/png": "[encoded data removed]",
            "text/plain": [
              "<Figure size 640x480 with 1 Axes>"
            ]
          },
          "metadata": {},
          "output_type": "display_data"
        }
      ],
      "source": [
        "sns.countplot(x='type', data=data)"
      ]
    },
    {
      "cell_type": "markdown",
      "metadata": {
        "id": "6QHh6l8LbZ9d"
      },
      "source": [
        "We can also use the bar plot for analyzing Type and amount column simultaneously."
      ]
    },
    {
      "cell_type": "code",
      "execution_count": null,
      "metadata": {
        "colab": {
          "base_uri": "https://localhost:8080/",
          "height": 466
        },
        "id": "7vzbcc8rZ2II",
        "outputId": "dfeb610e-f1c5-4dc1-a65f-2b2cd452154a"
      },
      "outputs": [
        {
          "data": {
            "text/plain": [
              "<Axes: xlabel='type', ylabel='amount'>"
            ]
          },
          "execution_count": 12,
          "metadata": {},
          "output_type": "execute_result"
        },
        {
          "data": {
            "image/png": "[encoded data removed]",
            "text/plain": [
              "<Figure size 640x480 with 1 Axes>"
            ]
          },
          "metadata": {},
          "output_type": "display_data"
        }
      ],
      "source": [
        "sns.barplot(x='type', y='amount', data=data)"
      ]
    },
    {
      "cell_type": "markdown",
      "metadata": {
        "id": "MpGj7XvnbkPL"
      },
      "source": [
        "Let’s check the distribution of data among both the prediction values."
      ]
    },
    {
      "cell_type": "code",
      "execution_count": null,
      "metadata": {
        "colab": {
          "base_uri": "https://localhost:8080/"
        },
        "id": "JtX-93PDZ-2H",
        "outputId": "69dd81f7-53fa-4661-c47e-aa97a94354c6"
      },
      "outputs": [
        {
          "data": {
            "text/plain": [
              "0    1047433\n",
              "1       1142\n",
              "Name: isFraud, dtype: int64"
            ]
          },
          "execution_count": 13,
          "metadata": {},
          "output_type": "execute_result"
        }
      ],
      "source": [
        "data['isFraud'].value_counts()"
      ]
    },
    {
      "cell_type": "markdown",
      "metadata": {
        "id": "but94YQtbrf9"
      },
      "source": [
        "The dataset is already in same count. So there is no need of sampling.\n",
        "\n",
        "Now let’s see the distribution of the step column using distplot."
      ]
    },
    {
      "cell_type": "code",
      "execution_count": null,
      "metadata": {
        "colab": {
          "base_uri": "https://localhost:8080/",
          "height": 623
        },
        "id": "Go5rJfMpaEjV",
        "outputId": "96205344-3de5-4109-aaf4-349eeae514b6"
      },
      "outputs": [
        {
          "name": "stderr",
          "output_type": "stream",
          "text": [
            "<ipython-input-14-d1bba932735e>:2: UserWarning:\n",
            "\n",
            "\n",
            "\n",
            "`distplot` is a deprecated function and will be removed in seaborn v0.14.0.\n",
            "\n",
            "Please adapt your code to use either `displot` (a figure-level function with\n",
            "similar flexibility) or `histplot` (an axes-level function for histograms).\n",
            "\n",
            "For a guide to updating your code to use the new functions, please see\n",
            "https://gist.github.com/mwaskom/de44147ed2974457ad6372750bbe5751\n",
            "\n",
            "\n"
          ]
        },
        {
          "data": {
            "text/plain": [
              "<Axes: xlabel='step', ylabel='Density'>"
            ]
          },
          "execution_count": 14,
          "metadata": {},
          "output_type": "execute_result"
        },
        {
          "data": {
            "image/png": "[encoded data removed]",
            "text/plain": [
              "<Figure size 1500x600 with 1 Axes>"
            ]
          },
          "metadata": {},
          "output_type": "display_data"
        }
      ],
      "source": [
        "plt.figure(figsize=(15, 6))\n",
        "sns.distplot(data['step'], bins=50)"
      ]
    },
    {
      "cell_type": "code",
      "execution_count": null,
      "metadata": {
        "colab": {
          "base_uri": "https://localhost:8080/",
          "height": 654
        },
        "id": "bgwcp0AeaQS4",
        "outputId": "2bf7d5d2-16ea-4a5f-ffe4-680543a8f94f"
      },
      "outputs": [
        {
          "name": "stderr",
          "output_type": "stream",
          "text": [
            "<ipython-input-15-5150050a6f29>:2: FutureWarning:\n",
            "\n",
            "The default value of numeric_only in DataFrame.corr is deprecated. In a future version, it will default to False. Select only valid columns or specify the value of numeric_only to silence this warning.\n",
            "\n"
          ]
        },
        {
          "data": {
            "text/plain": [
              "<Axes: >"
            ]
          },
          "execution_count": 15,
          "metadata": {},
          "output_type": "execute_result"
        },
        {
          "data": {
            "image/png": "[encoded data removed]",
            "text/plain": [
              "<Figure size 1200x600 with 2 Axes>"
            ]
          },
          "metadata": {},
          "output_type": "display_data"
        }
      ],
      "source": [
        "plt.figure(figsize=(12, 6))\n",
        "sns.heatmap(data.corr(),\n",
        "            cmap='BrBG',\n",
        "            fmt='.2f',\n",
        "            linewidths=2,\n",
        "            annot=True)"
      ]
    },
    {
      "cell_type": "markdown",
      "metadata": {
        "id": "oemDticX30pC"
      },
      "source": [
        "Finding the correlation between the features of the data with the isFraud column:"
      ]
    },
    {
      "cell_type": "code",
      "execution_count": null,
      "metadata": {
        "colab": {
          "base_uri": "https://localhost:8080/"
        },
        "id": "talOiaSz3e4H",
        "outputId": "8634fa8e-707b-44a2-8d21-d09d44207e73"
      },
      "outputs": [
        {
          "name": "stderr",
          "output_type": "stream",
          "text": [
            "<ipython-input-16-91bfb1e64f5b>:1: FutureWarning:\n",
            "\n",
            "The default value of numeric_only in DataFrame.corr is deprecated. In a future version, it will default to False. Select only valid columns or specify the value of numeric_only to silence this warning.\n",
            "\n"
          ]
        },
        {
          "name": "stdout",
          "output_type": "stream",
          "text": [
            "isFraud           1.000000\n",
            "amount            0.128862\n",
            "step              0.045030\n",
            "oldbalanceOrg     0.003829\n",
            "newbalanceDest   -0.000495\n",
            "oldbalanceDest   -0.007552\n",
            "newbalanceOrig   -0.009438\n",
            "isFlaggedFraud         NaN\n",
            "Name: isFraud, dtype: float64\n"
          ]
        }
      ],
      "source": [
        "correlation = data.corr()\n",
        "print(correlation[\"isFraud\"].sort_values(ascending=False))"
      ]
    },
    {
      "cell_type": "markdown",
      "metadata": {
        "id": "qlofIF885aoY"
      },
      "source": [
        "Transforming the categorical features into numerical.\n",
        "Also, transforming the values of the isFraud column into No Fraud and Fraud labels to have a better understanding of the output:"
      ]
    },
    {
      "cell_type": "code",
      "execution_count": null,
      "metadata": {
        "colab": {
          "base_uri": "https://localhost:8080/"
        },
        "id": "y9Qz_fqE4lfz",
        "outputId": "d11bc79a-1bc5-4663-8a04-1b22520afb86"
      },
      "outputs": [
        {
          "name": "stdout",
          "output_type": "stream",
          "text": [
            "   step  type    amount     nameOrig  oldbalanceOrg  newbalanceOrig  \\\n",
            "0     1     2   9839.64  C1231006815       170136.0       160296.36   \n",
            "1     1     2   1864.28  C1666544295        21249.0        19384.72   \n",
            "2     1     4    181.00  C1305486145          181.0            0.00   \n",
            "3     1     1    181.00   C840083671          181.0            0.00   \n",
            "4     1     2  11668.14  C2048537720        41554.0        29885.86   \n",
            "\n",
            "      nameDest  oldbalanceDest  newbalanceDest   isFraud  isFlaggedFraud  \n",
            "0  M1979787155             0.0             0.0  No Fraud               0  \n",
            "1  M2044282225             0.0             0.0  No Fraud               0  \n",
            "2   C553264065             0.0             0.0     Fraud               0  \n",
            "3    C38997010         21182.0             0.0     Fraud               0  \n",
            "4  M1230701703             0.0             0.0  No Fraud               0  \n"
          ]
        }
      ],
      "source": [
        "data[\"type\"] = data[\"type\"].map({\"CASH_OUT\": 1, \"PAYMENT\": 2,\n",
        "                                 \"CASH_IN\": 3, \"TRANSFER\": 4,\n",
        "                                 \"DEBIT\": 5})\n",
        "data[\"isFraud\"] = data[\"isFraud\"].map({0: \"No Fraud\", 1: \"Fraud\"})\n",
        "print(data.head())"
      ]
    },
    {
      "cell_type": "markdown",
      "metadata": {
        "id": "W7a2EtJHY5SW"
      },
      "source": [
        "Splitting the Data set:-"
      ]
    },
    {
      "cell_type": "code",
      "execution_count": null,
      "metadata": {
        "id": "9kkjLNtMScFM"
      },
      "outputs": [],
      "source": [
        "from sklearn.model_selection import train_test_split\n",
        "x = np.array(data[[\"type\", \"amount\", \"oldbalanceOrg\", \"newbalanceOrig\"]])\n",
        "y = np.array(data[[\"isFraud\"]])"
      ]
    },
    {
      "cell_type": "markdown",
      "metadata": {
        "id": "6JOkKf56Y_do"
      },
      "source": [
        "Now, training the Machine learning model"
      ]
    },
    {
      "cell_type": "code",
      "execution_count": null,
      "metadata": {
        "colab": {
          "base_uri": "https://localhost:8080/"
        },
        "id": "95oja__os-Ng",
        "outputId": "845e6df5-d76f-4fae-e70f-1b5fcf94c2d3"
      },
      "outputs": [
        {
          "name": "stdout",
          "output_type": "stream",
          "text": [
            "0.9994468710065041\n"
          ]
        }
      ],
      "source": [
        "from sklearn.model_selection import train_test_split\n",
        "from sklearn.tree import DecisionTreeClassifier\n",
        "from sklearn.preprocessing import LabelEncoder\n",
        "\n",
        "xtrain, xtest, ytrain, ytest = train_test_split(x, y, test_size=0.10, random_state=42)\n",
        "\n",
        "label_encoder = LabelEncoder()\n",
        "\n",
        "for feature_idx in range(xtrain.shape[1]):\n",
        "    if isinstance(xtrain[0, feature_idx], str):\n",
        "        xtrain[:, feature_idx]=label_encoder.fit_transform(xtrain[:, feature_idx])\n",
        "        xtest[:, feature_idx]=label_encoder.transform(xtest[:, feature_idx])\n",
        "\n",
        "model=DecisionTreeClassifier()\n",
        "model.fit(xtrain, ytrain)\n",
        "\n",
        "print (model.score(xtest, ytest))"
      ]
    },
    {
      "cell_type": "markdown",
      "metadata": {
        "id": "bkjKQEypZLG0"
      },
      "source": [
        "Now, classifying whether the transaction is fraud or not:"
      ]
    },
    {
      "cell_type": "code",
      "execution_count": null,
      "metadata": {
        "colab": {
          "base_uri": "https://localhost:8080/"
        },
        "id": "yrYdu-bkYLqH",
        "outputId": "a990dba4-271c-4374-ba4b-37b924c0679e"
      },
      "outputs": [
        {
          "name": "stdout",
          "output_type": "stream",
          "text": [
            "['No Fraud']\n"
          ]
        }
      ],
      "source": [
        "features = np.array([[3, 9000.60, 0.0, 0.0]])\n",
        "print(model.predict(features))"
      ]
    }
  ],
  "metadata": {
    "colab": {
      "provenance": []
    },
    "kernelspec": {
      "display_name": "Python 3",
      "name": "python3"
    },
    "language_info": {
      "name": "python"
    }
  },
  "nbformat": 4,
  "nbformat_minor": 0
}
